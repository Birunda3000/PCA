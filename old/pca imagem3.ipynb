{
 "cells": [
  {
   "cell_type": "code",
   "execution_count": 1,
   "metadata": {},
   "outputs": [],
   "source": [
    "import pandas as pd\n",
    "import numpy as np\n",
    "import random as rd\n",
    "from sklearn.decomposition import PCA # faz o PCA\n",
    "from sklearn import preprocessing # para centralizar os dados e manter a proporção entre as dimensões\n",
    "import matplotlib.pyplot as plt # para gerar os graficos\n",
    "\n",
    "#import matplotlib.axes.Axes.set_aspect"
   ]
  },
  {
   "cell_type": "code",
   "execution_count": 2,
   "metadata": {},
   "outputs": [
    {
     "name": "stdout",
     "output_type": "stream",
     "text": [
      "['dimensao1', 'dimensao2']\n"
     ]
    }
   ],
   "source": [
    "# Gerando dados Aleatorios\n",
    "dimensoes = ['dimensao' + str(i) for i in range(1,3)]\n",
    "print(dimensoes)"
   ]
  },
  {
   "cell_type": "code",
   "execution_count": 3,
   "metadata": {},
   "outputs": [
    {
     "name": "stdout",
     "output_type": "stream",
     "text": [
      "['T-1', 'T-2', 'T-3', 'T-4', 'T-5', 'T-6']\n"
     ]
    }
   ],
   "source": [
    "amostrasT = ['T-' + str(i) for i in range(1,7)]\n",
    "#amostrasK = ['K-' + str(i) for i in range(1,7)]\n",
    "#amostrasG = ['G-' + str(i) for i in range(1,7)]\n",
    "print(amostrasT)\n",
    "#print(amostrasK)\n",
    "#print(amostrasG)"
   ]
  },
  {
   "cell_type": "code",
   "execution_count": 4,
   "metadata": {},
   "outputs": [
    {
     "data": {
      "text/html": [
       "<div>\n",
       "<style scoped>\n",
       "    .dataframe tbody tr th:only-of-type {\n",
       "        vertical-align: middle;\n",
       "    }\n",
       "\n",
       "    .dataframe tbody tr th {\n",
       "        vertical-align: top;\n",
       "    }\n",
       "\n",
       "    .dataframe thead th {\n",
       "        text-align: right;\n",
       "    }\n",
       "</style>\n",
       "<table border=\"1\" class=\"dataframe\">\n",
       "  <thead>\n",
       "    <tr style=\"text-align: right;\">\n",
       "      <th></th>\n",
       "      <th>T-1</th>\n",
       "      <th>T-2</th>\n",
       "      <th>T-3</th>\n",
       "      <th>T-4</th>\n",
       "      <th>T-5</th>\n",
       "      <th>T-6</th>\n",
       "    </tr>\n",
       "  </thead>\n",
       "  <tbody>\n",
       "    <tr>\n",
       "      <th>dimensao1</th>\n",
       "      <td>NaN</td>\n",
       "      <td>NaN</td>\n",
       "      <td>NaN</td>\n",
       "      <td>NaN</td>\n",
       "      <td>NaN</td>\n",
       "      <td>NaN</td>\n",
       "    </tr>\n",
       "    <tr>\n",
       "      <th>dimensao2</th>\n",
       "      <td>NaN</td>\n",
       "      <td>NaN</td>\n",
       "      <td>NaN</td>\n",
       "      <td>NaN</td>\n",
       "      <td>NaN</td>\n",
       "      <td>NaN</td>\n",
       "    </tr>\n",
       "  </tbody>\n",
       "</table>\n",
       "</div>"
      ],
      "text/plain": [
       "           T-1  T-2  T-3  T-4  T-5  T-6\n",
       "dimensao1  NaN  NaN  NaN  NaN  NaN  NaN\n",
       "dimensao2  NaN  NaN  NaN  NaN  NaN  NaN"
      ]
     },
     "execution_count": 4,
     "metadata": {},
     "output_type": "execute_result"
    }
   ],
   "source": [
    "#df = pd.DataFrame(columns=[*amostrasT, *amostrasK, *amostrasG], index=dimensoes)\n",
    "df = pd.DataFrame(columns=[*amostrasT], index=dimensoes)\n",
    "df"
   ]
  },
  {
   "cell_type": "code",
   "execution_count": 5,
   "metadata": {},
   "outputs": [],
   "source": [
    "data = np.array([\n",
    "[10,11,8,3,2,  1],#trocado      1,2\n",
    "\n",
    "[6, 4, 5,3,1,2.8]\n",
    "])"
   ]
  },
  {
   "cell_type": "code",
   "execution_count": 6,
   "metadata": {},
   "outputs": [
    {
     "data": {
      "text/plain": [
       "'data = np.array([\\n[1 , 2,3, 4,5, 6],#trocado      1,2    X\\n\\n[1+0 , 2,3, 4,5, 6+3] #                    Y\\n])'"
      ]
     },
     "execution_count": 6,
     "metadata": {},
     "output_type": "execute_result"
    }
   ],
   "source": [
    "'''data = np.array([\n",
    "[1 , 2,3, 4,5, 6],#trocado      1,2    X\n",
    "\n",
    "[1+0 , 2,3, 4,5, 6+3] #                    Y\n",
    "])'''"
   ]
  },
  {
   "cell_type": "code",
   "execution_count": 7,
   "metadata": {},
   "outputs": [],
   "source": [
    "i = 0\n",
    "for dimensao in df.index: #para cada dimensão do meu data frame\n",
    "    df.loc[dimensao,'T-1':'T-6'] = data[i]\n",
    "    i = i+1\n",
    "    \n",
    "    #df.loc[dimensao,'T-1':'T-6'] = np.random.poisson(lam=rd.randrange(1,1000), size=6)# valores com uma distribuição de poisson com a media aleatoria entre 1 e 100\n",
    "    #df.loc[dimensao,'K-1':'K-6'] = np.random.poisson(lam=rd.randrange(1,1000), size=6)# valores com uma distribuição de poisson com a media aleatoria entre 1 e 100\n",
    "    #df.loc[dimensao,'G-1':'G-6'] = np.random.poisson(lam=rd.randrange(1,1000), size=6)# valores com uma distribuição de poisson com a media aleatoria entre 1 e 100"
   ]
  },
  {
   "cell_type": "code",
   "execution_count": 8,
   "metadata": {},
   "outputs": [
    {
     "data": {
      "text/html": [
       "<div>\n",
       "<style scoped>\n",
       "    .dataframe tbody tr th:only-of-type {\n",
       "        vertical-align: middle;\n",
       "    }\n",
       "\n",
       "    .dataframe tbody tr th {\n",
       "        vertical-align: top;\n",
       "    }\n",
       "\n",
       "    .dataframe thead th {\n",
       "        text-align: right;\n",
       "    }\n",
       "</style>\n",
       "<table border=\"1\" class=\"dataframe\">\n",
       "  <thead>\n",
       "    <tr style=\"text-align: right;\">\n",
       "      <th></th>\n",
       "      <th>T-1</th>\n",
       "      <th>T-2</th>\n",
       "      <th>T-3</th>\n",
       "      <th>T-4</th>\n",
       "      <th>T-5</th>\n",
       "      <th>T-6</th>\n",
       "    </tr>\n",
       "  </thead>\n",
       "  <tbody>\n",
       "    <tr>\n",
       "      <th>dimensao1</th>\n",
       "      <td>10</td>\n",
       "      <td>11</td>\n",
       "      <td>8</td>\n",
       "      <td>3</td>\n",
       "      <td>2</td>\n",
       "      <td>1</td>\n",
       "    </tr>\n",
       "    <tr>\n",
       "      <th>dimensao2</th>\n",
       "      <td>6</td>\n",
       "      <td>4</td>\n",
       "      <td>5</td>\n",
       "      <td>3</td>\n",
       "      <td>1</td>\n",
       "      <td>2.8</td>\n",
       "    </tr>\n",
       "  </tbody>\n",
       "</table>\n",
       "</div>"
      ],
      "text/plain": [
       "          T-1 T-2 T-3 T-4 T-5  T-6\n",
       "dimensao1  10  11   8   3   2    1\n",
       "dimensao2   6   4   5   3   1  2.8"
      ]
     },
     "execution_count": 8,
     "metadata": {},
     "output_type": "execute_result"
    }
   ],
   "source": [
    "#df = pd.read_csv(\"iris-Copy1.csv\")\n",
    "#df = df.drop(columns=['variety'])\n",
    "df"
   ]
  },
  {
   "cell_type": "code",
   "execution_count": 9,
   "metadata": {},
   "outputs": [
    {
     "data": {
      "text/plain": [
       "array([[ 4.16666667,  5.16666667,  2.16666667, -2.83333333, -3.83333333,\n",
       "        -4.83333333],\n",
       "       [ 2.36666667,  0.36666667,  1.36666667, -0.63333333, -2.63333333,\n",
       "        -0.83333333]])"
      ]
     },
     "execution_count": 9,
     "metadata": {},
     "output_type": "execute_result"
    }
   ],
   "source": [
    "# PCA\n",
    "\n",
    "scaled_data = preprocessing.scale(X=df.T, with_mean=True, with_std=False) # centraliza os dados na origem e normaliza(media = 0 e desvio padrão = 1) \n",
    "# transposto porque os porque a função scale recebe as amostras como linhas e as dimesões como colunas\n",
    "\n",
    "#scaled_data = StandartScaler().fit_transform(df.T)\n",
    "\n",
    "\n",
    "scaled_data.T# dados escalados são 18 [] um por amostra e [12 valores(um por dimensão)] "
   ]
  },
  {
   "cell_type": "code",
   "execution_count": 10,
   "metadata": {},
   "outputs": [
    {
     "data": {
      "text/plain": [
       "PCA()"
      ]
     },
     "execution_count": 10,
     "metadata": {},
     "output_type": "execute_result"
    }
   ],
   "source": [
    "pca = PCA()\n",
    "pca.fit(scaled_data) # magic"
   ]
  },
  {
   "cell_type": "code",
   "execution_count": 11,
   "metadata": {},
   "outputs": [
    {
     "data": {
      "text/plain": [
       "array([[ 4.70803928, -0.89251797],\n",
       "       [ 5.00775127,  1.32337299],\n",
       "       [ 2.49214833, -0.59280598],\n",
       "       [-2.88593236, -0.31667539],\n",
       "       [-4.47881793,  1.25262877],\n",
       "       [-4.8431886 , -0.77400243]])"
      ]
     },
     "execution_count": 11,
     "metadata": {},
     "output_type": "execute_result"
    }
   ],
   "source": [
    "pca_data = pca.transform(scaled_data) # coordenadas dos dados nas PC's\n",
    "\n",
    "#[] = uma amostra ()\n",
    "#são 18 [] com [12 valores] o numero maximo de pc's gerados é a dimensionalidade dados ou quantidade de amostras-1 (o que for menor)\n",
    "#porque? se vc tiver mais dimesões que amostras-1, as PC's depois de amostra-1 vão ser sempre zero\n",
    "# 2 pontos = reta = pc1 logo variancia em pc2 é sempre 0 / 3 pontos = plano = pc1 + pc2 logo variancia em pc3 é sempre 0\n",
    "#logo os dados neste caso terão 12 dimensões\n",
    "''''\n",
    "\n",
    "4.7199359  \n",
    "4.98900588 \n",
    "2.50010857 \n",
    "2.88129103 \n",
    "3.89030345 \n",
    "5.43745584\n",
    "\n",
    "'''\n",
    "pca_data"
   ]
  },
  {
   "cell_type": "code",
   "execution_count": 12,
   "metadata": {},
   "outputs": [
    {
     "data": {
      "text/plain": [
       "array([[ 0.94629878,  0.3232934 ],\n",
       "       [ 0.3232934 , -0.94629878]])"
      ]
     },
     "execution_count": 12,
     "metadata": {},
     "output_type": "execute_result"
    }
   ],
   "source": [
    "coe = pca.components_\n",
    "pca.components_"
   ]
  },
  {
   "cell_type": "code",
   "execution_count": 13,
   "metadata": {},
   "outputs": [
    {
     "name": "stdout",
     "output_type": "stream",
     "text": [
      "0.3232933952419959\n",
      "0.9462987797693192\n",
      "0.34163987331866336\n"
     ]
    }
   ],
   "source": [
    "#print(coe[1][0]/coe[0][0])\n",
    "\n",
    "#(coe[0][1]/coe[0][0])\n",
    "\n",
    "print(coe[0][1])\n",
    "print(coe[0][0])\n",
    "\n",
    "print(coe[0][1]/coe[0][0])"
   ]
  },
  {
   "cell_type": "code",
   "execution_count": 14,
   "metadata": {},
   "outputs": [
    {
     "name": "stdout",
     "output_type": "stream",
     "text": [
      "PC1 - 0.34\n",
      "PC2 - -2.93\n"
     ]
    }
   ],
   "source": [
    "print('PC1 - {}'.format(np.round(coe[0][1]/coe[0][0], decimals=2) ) )\n",
    "print('PC2 - {}'.format(np.round(coe[1][1]/coe[1][0], decimals=2) ) )"
   ]
  },
  {
   "cell_type": "code",
   "execution_count": 15,
   "metadata": {},
   "outputs": [
    {
     "name": "stdout",
     "output_type": "stream",
     "text": [
      "PC1 - x 0.95  +  y 0.32\n",
      "PC2 - x 0.32  +  y -0.95\n"
     ]
    }
   ],
   "source": [
    "print('PC1 - x {}  +  y {}'.format(np.round(coe[0][0], decimals=2), np.round(coe[0][1], decimals=2) ) )\n",
    "print('PC2 - x {}  +  y {}'.format(np.round(coe[1][0], decimals=2), np.round(coe[1][1], decimals=2) ) )"
   ]
  },
  {
   "cell_type": "code",
   "execution_count": 16,
   "metadata": {},
   "outputs": [
    {
     "data": {
      "text/html": [
       "<div>\n",
       "<style scoped>\n",
       "    .dataframe tbody tr th:only-of-type {\n",
       "        vertical-align: middle;\n",
       "    }\n",
       "\n",
       "    .dataframe tbody tr th {\n",
       "        vertical-align: top;\n",
       "    }\n",
       "\n",
       "    .dataframe thead th {\n",
       "        text-align: right;\n",
       "    }\n",
       "</style>\n",
       "<table border=\"1\" class=\"dataframe\">\n",
       "  <thead>\n",
       "    <tr style=\"text-align: right;\">\n",
       "      <th></th>\n",
       "      <th>X</th>\n",
       "      <th>Y</th>\n",
       "    </tr>\n",
       "  </thead>\n",
       "  <tbody>\n",
       "    <tr>\n",
       "      <th>PC1</th>\n",
       "      <td>0.946299</td>\n",
       "      <td>0.323293</td>\n",
       "    </tr>\n",
       "    <tr>\n",
       "      <th>PC2</th>\n",
       "      <td>0.323293</td>\n",
       "      <td>-0.946299</td>\n",
       "    </tr>\n",
       "  </tbody>\n",
       "</table>\n",
       "</div>"
      ],
      "text/plain": [
       "            X         Y\n",
       "PC1  0.946299  0.323293\n",
       "PC2  0.323293 -0.946299"
      ]
     },
     "execution_count": 16,
     "metadata": {},
     "output_type": "execute_result"
    }
   ],
   "source": [
    "#labels = ['PC' + str(x) for x in range(1, len(per_var)+1)]\n",
    "pca_df = pd.DataFrame(pca.components_, index=['PC1', 'PC2'], columns=['X', 'Y'])\n",
    "pca_df"
   ]
  },
  {
   "cell_type": "code",
   "execution_count": 17,
   "metadata": {},
   "outputs": [
    {
     "data": {
      "text/plain": [
       "array([[ 4.71, -0.89],\n",
       "       [ 5.01,  1.32],\n",
       "       [ 2.49, -0.59],\n",
       "       [-2.89, -0.32],\n",
       "       [-4.48,  1.25],\n",
       "       [-4.84, -0.77]])"
      ]
     },
     "execution_count": 17,
     "metadata": {},
     "output_type": "execute_result"
    }
   ],
   "source": [
    "np.round(pca_data, decimals=2)"
   ]
  },
  {
   "cell_type": "code",
   "execution_count": 18,
   "metadata": {},
   "outputs": [
    {
     "name": "stdout",
     "output_type": "stream",
     "text": [
      "[95.3  4.7]\n",
      "['PC1', 'PC2']\n"
     ]
    }
   ],
   "source": [
    "# PCA plot\n",
    "per_var = np.round(pca.explained_variance_ratio_* 100, decimals=1)#quanta imformação cada pc tem em %, o ultimo é zero pq ne (não sei pq ele entra)\n",
    "labels = ['PC' + str(x) for x in range(1, len(per_var)+1)]# labels para o grafico\n",
    "print(per_var)\n",
    "print(labels)"
   ]
  },
  {
   "cell_type": "code",
   "execution_count": 19,
   "metadata": {},
   "outputs": [
    {
     "data": {
      "image/png": "[encoded data removed]",
      "text/plain": [
       "<Figure size 432x288 with 1 Axes>"
      ]
     },
     "metadata": {
      "needs_background": "light"
     },
     "output_type": "display_data"
    }
   ],
   "source": [
    "plt.bar(x=range(1,len(per_var)+1), height=per_var, tick_label=labels)#grafico de barras\n",
    "plt.ylabel('Contribuição na variancia dos dados')\n",
    "plt.xlabel('Componente Principal')\n",
    "plt.title('Importancia de Cada componente')\n",
    "plt.show()\n",
    "# com PC1 e PC2 temos mais de 90% da variancia dos dados"
   ]
  },
  {
   "cell_type": "code",
   "execution_count": 20,
   "metadata": {},
   "outputs": [
    {
     "data": {
      "text/html": [
       "<div>\n",
       "<style scoped>\n",
       "    .dataframe tbody tr th:only-of-type {\n",
       "        vertical-align: middle;\n",
       "    }\n",
       "\n",
       "    .dataframe tbody tr th {\n",
       "        vertical-align: top;\n",
       "    }\n",
       "\n",
       "    .dataframe thead th {\n",
       "        text-align: right;\n",
       "    }\n",
       "</style>\n",
       "<table border=\"1\" class=\"dataframe\">\n",
       "  <thead>\n",
       "    <tr style=\"text-align: right;\">\n",
       "      <th></th>\n",
       "      <th>PC1</th>\n",
       "      <th>PC2</th>\n",
       "    </tr>\n",
       "  </thead>\n",
       "  <tbody>\n",
       "    <tr>\n",
       "      <th>T-1</th>\n",
       "      <td>4.71</td>\n",
       "      <td>-0.89</td>\n",
       "    </tr>\n",
       "    <tr>\n",
       "      <th>T-2</th>\n",
       "      <td>5.01</td>\n",
       "      <td>1.32</td>\n",
       "    </tr>\n",
       "    <tr>\n",
       "      <th>T-3</th>\n",
       "      <td>2.49</td>\n",
       "      <td>-0.59</td>\n",
       "    </tr>\n",
       "    <tr>\n",
       "      <th>T-4</th>\n",
       "      <td>-2.89</td>\n",
       "      <td>-0.32</td>\n",
       "    </tr>\n",
       "    <tr>\n",
       "      <th>T-5</th>\n",
       "      <td>-4.48</td>\n",
       "      <td>1.25</td>\n",
       "    </tr>\n",
       "    <tr>\n",
       "      <th>T-6</th>\n",
       "      <td>-4.84</td>\n",
       "      <td>-0.77</td>\n",
       "    </tr>\n",
       "  </tbody>\n",
       "</table>\n",
       "</div>"
      ],
      "text/plain": [
       "      PC1   PC2\n",
       "T-1  4.71 -0.89\n",
       "T-2  5.01  1.32\n",
       "T-3  2.49 -0.59\n",
       "T-4 -2.89 -0.32\n",
       "T-5 -4.48  1.25\n",
       "T-6 -4.84 -0.77"
      ]
     },
     "execution_count": 20,
     "metadata": {},
     "output_type": "execute_result"
    }
   ],
   "source": [
    "#dados nas PC's\n",
    "#pca_df = pd.DataFrame(pca_data, index=[*amostrasT, *amostrasK, *amostrasG], columns=labels)\n",
    "pca_df = pd.DataFrame(pca_data, index=[*amostrasT], columns=labels)\n",
    "np.round(pca_df, decimals=2)"
   ]
  },
  {
   "cell_type": "code",
   "execution_count": 21,
   "metadata": {},
   "outputs": [
    {
     "data": {
      "text/html": [
       "<div>\n",
       "<style scoped>\n",
       "    .dataframe tbody tr th:only-of-type {\n",
       "        vertical-align: middle;\n",
       "    }\n",
       "\n",
       "    .dataframe tbody tr th {\n",
       "        vertical-align: top;\n",
       "    }\n",
       "\n",
       "    .dataframe thead th {\n",
       "        text-align: right;\n",
       "    }\n",
       "</style>\n",
       "<table border=\"1\" class=\"dataframe\">\n",
       "  <thead>\n",
       "    <tr style=\"text-align: right;\">\n",
       "      <th></th>\n",
       "      <th>dimensao1</th>\n",
       "      <th>dimensao2</th>\n",
       "    </tr>\n",
       "  </thead>\n",
       "  <tbody>\n",
       "    <tr>\n",
       "      <th>T-1</th>\n",
       "      <td>10</td>\n",
       "      <td>6</td>\n",
       "    </tr>\n",
       "    <tr>\n",
       "      <th>T-2</th>\n",
       "      <td>11</td>\n",
       "      <td>4</td>\n",
       "    </tr>\n",
       "    <tr>\n",
       "      <th>T-3</th>\n",
       "      <td>8</td>\n",
       "      <td>5</td>\n",
       "    </tr>\n",
       "    <tr>\n",
       "      <th>T-4</th>\n",
       "      <td>3</td>\n",
       "      <td>3</td>\n",
       "    </tr>\n",
       "    <tr>\n",
       "      <th>T-5</th>\n",
       "      <td>2</td>\n",
       "      <td>1</td>\n",
       "    </tr>\n",
       "    <tr>\n",
       "      <th>T-6</th>\n",
       "      <td>1</td>\n",
       "      <td>2.8</td>\n",
       "    </tr>\n",
       "  </tbody>\n",
       "</table>\n",
       "</div>"
      ],
      "text/plain": [
       "    dimensao1 dimensao2\n",
       "T-1        10         6\n",
       "T-2        11         4\n",
       "T-3         8         5\n",
       "T-4         3         3\n",
       "T-5         2         1\n",
       "T-6         1       2.8"
      ]
     },
     "execution_count": 21,
     "metadata": {},
     "output_type": "execute_result"
    }
   ],
   "source": [
    "df1 = df.T\n",
    "np.round(df1, decimals=2)"
   ]
  },
  {
   "cell_type": "code",
   "execution_count": 22,
   "metadata": {},
   "outputs": [
    {
     "name": "stdout",
     "output_type": "stream",
     "text": [
      "5.833333333333333\n",
      "3.6333333333333333\n"
     ]
    }
   ],
   "source": [
    "m1 = np.mean(df1.dimensao1)\n",
    "print(m1)\n",
    "\n",
    "m2 = np.mean(df1.dimensao2)\n",
    "\n",
    "print(m2)"
   ]
  },
  {
   "cell_type": "code",
   "execution_count": 23,
   "metadata": {},
   "outputs": [
    {
     "data": {
      "text/plain": [
       "array([[ 4.16666667,  2.36666667],\n",
       "       [ 5.16666667,  0.36666667],\n",
       "       [ 2.16666667,  1.36666667],\n",
       "       [-2.83333333, -0.63333333],\n",
       "       [-3.83333333, -2.63333333],\n",
       "       [-4.83333333, -0.83333333]])"
      ]
     },
     "execution_count": 23,
     "metadata": {},
     "output_type": "execute_result"
    }
   ],
   "source": [
    "scaled_data"
   ]
  },
  {
   "cell_type": "code",
   "execution_count": 24,
   "metadata": {},
   "outputs": [],
   "source": [
    "m1 = np.mean(df1.dimensao1)\n",
    "#print(np.mean(pca_df.PC1)\n",
    "\n",
    "m2 = np.mean(df1.dimensao2)\n",
    "\n",
    "#print(np.mean(pca_df.PC2)\n",
    "\n",
    "#df1.dimensao1-m1"
   ]
  },
  {
   "cell_type": "code",
   "execution_count": 25,
   "metadata": {},
   "outputs": [],
   "source": [
    "#df1.dimensao2-m2"
   ]
  },
  {
   "cell_type": "code",
   "execution_count": 26,
   "metadata": {},
   "outputs": [
    {
     "data": {
      "image/png": "[encoded data removed]",
      "text/plain": [
       "<Figure size 432x288 with 1 Axes>"
      ]
     },
     "metadata": {
      "needs_background": "light"
     },
     "output_type": "display_data"
    }
   ],
   "source": [
    "plt.scatter(np.round(pca_df.PC1, decimals=2), np.round(pca_df.PC2, decimals=2))\n",
    "\n",
    "#plt.scatter(df1.dimensao1 , df1.dimensao2, color = 'red')\n",
    "\n",
    "plt.scatter(df1.dimensao1 -m1 , df1.dimensao2 -m2)\n",
    "\n",
    "plt.scatter(1, 1)\n",
    "\n",
    "x = np.arange(-5, 5, 0.5)\n",
    "\n",
    "plt.plot(x, x * (coe[0][1]/coe[0][0]), color = 'purple')\n",
    "\n",
    "#plt.plot(x, x * (coe[1][1]/coe[1][0]), color = 'green')\n",
    "\n",
    "\n",
    "plt.title('Grafico com PC1 e PC2')\n",
    "plt.xlabel('PC1 - {0}%'.format(per_var[0]))\n",
    "plt.ylabel('PC2 - {0}%'.format(per_var[1]))\n",
    "plt.grid(True)\n",
    "\n",
    "#for sample in pca_df.index:\n",
    "    #plt.annotate(sample, (pca_df.PC1.loc[sample], pca_df.PC2.loc[sample]))\n",
    "    #print(sample)\n",
    "    #print(pca_df.PC1.loc[sample])\n",
    "    #print(pca_df.PC2.loc[sample])\n",
    "    #print('\\n')\n",
    "\n",
    "plt.show()"
   ]
  },
  {
   "cell_type": "code",
   "execution_count": 27,
   "metadata": {},
   "outputs": [
    {
     "data": {
      "text/plain": [
       "\"plt.scatter(np.round(df.PC1, decimals=2), np.round(df.PC2, decimals=2))\\nplt.title('Grafico com PC1 e PC2')\\nplt.xlabel('PC1 - {0}%'.format(per_var[0]))\\nplt.ylabel('PC2 - {0}%'.format(per_var[1]))\\nplt.grid(True)\\n\\nfor sample in pca_df.index:\\n    plt.annotate(sample, (-pca_df.PC1.loc[sample], pca_df.PC2.loc[sample]))\\nplt.show()\""
      ]
     },
     "execution_count": 27,
     "metadata": {},
     "output_type": "execute_result"
    }
   ],
   "source": [
    "'''plt.scatter(np.round(df.PC1, decimals=2), np.round(df.PC2, decimals=2))\n",
    "plt.title('Grafico com PC1 e PC2')\n",
    "plt.xlabel('PC1 - {0}%'.format(per_var[0]))\n",
    "plt.ylabel('PC2 - {0}%'.format(per_var[1]))\n",
    "plt.grid(True)\n",
    "\n",
    "for sample in pca_df.index:\n",
    "    plt.annotate(sample, (-pca_df.PC1.loc[sample], pca_df.PC2.loc[sample]))\n",
    "plt.show()'''"
   ]
  },
  {
   "cell_type": "code",
   "execution_count": null,
   "metadata": {},
   "outputs": [],
   "source": []
  },
  {
   "cell_type": "code",
   "execution_count": 28,
   "metadata": {},
   "outputs": [
    {
     "data": {
      "text/plain": [
       "\"dimensoes = ['dimensao' + str(i) for i in range(1,5)]\\n\\namostrasT = ['amostras' + str(i) for i in range(1,7)]\\n\\ndf = pd.DataFrame(columns=[*amostrasT], index=dimensoes)\\n\\ni = 1\\n\\nfor dimensao in df.index: #para cada dimensão do meu data frame\\n    df.loc[dimensao,'T-1'] = np.array(1,2,3,7,7,8)\\n    i = 0\\ndf\""
      ]
     },
     "execution_count": 28,
     "metadata": {},
     "output_type": "execute_result"
    }
   ],
   "source": [
    "'''dimensoes = ['dimensao' + str(i) for i in range(1,5)]\n",
    "\n",
    "amostrasT = ['amostras' + str(i) for i in range(1,7)]\n",
    "\n",
    "df = pd.DataFrame(columns=[*amostrasT], index=dimensoes)\n",
    "\n",
    "i = 1\n",
    "\n",
    "for dimensao in df.index: #para cada dimensão do meu data frame\n",
    "    df.loc[dimensao,'T-1'] = np.array(1,2,3,7,7,8)\n",
    "    i = 0\n",
    "df'''"
   ]
  },
  {
   "cell_type": "code",
   "execution_count": 29,
   "metadata": {},
   "outputs": [
    {
     "data": {
      "text/html": [
       "<div>\n",
       "<style scoped>\n",
       "    .dataframe tbody tr th:only-of-type {\n",
       "        vertical-align: middle;\n",
       "    }\n",
       "\n",
       "    .dataframe tbody tr th {\n",
       "        vertical-align: top;\n",
       "    }\n",
       "\n",
       "    .dataframe thead th {\n",
       "        text-align: right;\n",
       "    }\n",
       "</style>\n",
       "<table border=\"1\" class=\"dataframe\">\n",
       "  <thead>\n",
       "    <tr style=\"text-align: right;\">\n",
       "      <th></th>\n",
       "      <th>PC1</th>\n",
       "      <th>PC2</th>\n",
       "    </tr>\n",
       "  </thead>\n",
       "  <tbody>\n",
       "    <tr>\n",
       "      <th>T-1</th>\n",
       "      <td>4.708039</td>\n",
       "      <td>-0.892518</td>\n",
       "    </tr>\n",
       "    <tr>\n",
       "      <th>T-2</th>\n",
       "      <td>5.007751</td>\n",
       "      <td>1.323373</td>\n",
       "    </tr>\n",
       "    <tr>\n",
       "      <th>T-3</th>\n",
       "      <td>2.492148</td>\n",
       "      <td>-0.592806</td>\n",
       "    </tr>\n",
       "    <tr>\n",
       "      <th>T-4</th>\n",
       "      <td>-2.885932</td>\n",
       "      <td>-0.316675</td>\n",
       "    </tr>\n",
       "    <tr>\n",
       "      <th>T-5</th>\n",
       "      <td>-4.478818</td>\n",
       "      <td>1.252629</td>\n",
       "    </tr>\n",
       "    <tr>\n",
       "      <th>T-6</th>\n",
       "      <td>-4.843189</td>\n",
       "      <td>-0.774002</td>\n",
       "    </tr>\n",
       "  </tbody>\n",
       "</table>\n",
       "</div>"
      ],
      "text/plain": [
       "          PC1       PC2\n",
       "T-1  4.708039 -0.892518\n",
       "T-2  5.007751  1.323373\n",
       "T-3  2.492148 -0.592806\n",
       "T-4 -2.885932 -0.316675\n",
       "T-5 -4.478818  1.252629\n",
       "T-6 -4.843189 -0.774002"
      ]
     },
     "execution_count": 29,
     "metadata": {},
     "output_type": "execute_result"
    }
   ],
   "source": [
    "pca_df = pd.DataFrame(pca_data, index=[*amostrasT], columns=labels)\n",
    "pca_df"
   ]
  },
  {
   "cell_type": "code",
   "execution_count": 30,
   "metadata": {},
   "outputs": [
    {
     "data": {
      "image/png": "[encoded data removed]",
      "text/plain": [
       "<Figure size 432x288 with 1 Axes>"
      ]
     },
     "metadata": {
      "needs_background": "light"
     },
     "output_type": "display_data"
    }
   ],
   "source": [
    "plt.scatter(pca_df.PC1, pca_df.PC2)\n",
    "plt.title('Grafico com PC1 e PC2')\n",
    "plt.xlabel('PC1 - {0}%'.format(per_var[0]))\n",
    "plt.ylabel('PC2 - {0}%'.format(per_var[1]))\n",
    "plt.grid(True)\n",
    " \n",
    "for sample in pca_df.index:\n",
    "    plt.annotate(sample, (pca_df.PC1.loc[sample], pca_df.PC2.loc[sample]))\n",
    " \n",
    "plt.show()"
   ]
  },
  {
   "cell_type": "code",
   "execution_count": 31,
   "metadata": {},
   "outputs": [
    {
     "name": "stdout",
     "output_type": "stream",
     "text": [
      "[0.95321878 0.04678122]\n"
     ]
    }
   ],
   "source": [
    "print(pca.explained_variance_ratio_)"
   ]
  },
  {
   "cell_type": "code",
   "execution_count": 32,
   "metadata": {},
   "outputs": [
    {
     "name": "stdout",
     "output_type": "stream",
     "text": [
      "[95.3  4.7]\n"
     ]
    }
   ],
   "source": [
    "print(np.round(pca.explained_variance_ratio_* 100, decimals=1))"
   ]
  },
  {
   "cell_type": "code",
   "execution_count": 33,
   "metadata": {},
   "outputs": [
    {
     "name": "stdout",
     "output_type": "stream",
     "text": [
      "[[ 9.5  3.2]\n",
      " [ 3.2 -9.5]]\n"
     ]
    }
   ],
   "source": [
    "print(np.round(pca.components_ * 10, decimals=1))"
   ]
  },
  {
   "cell_type": "code",
   "execution_count": 34,
   "metadata": {},
   "outputs": [
    {
     "data": {
      "text/plain": [
       "array([[ 0.94629878,  0.3232934 ],\n",
       "       [ 0.3232934 , -0.94629878]])"
      ]
     },
     "execution_count": 34,
     "metadata": {},
     "output_type": "execute_result"
    }
   ],
   "source": [
    "pca.components_"
   ]
  },
  {
   "cell_type": "code",
   "execution_count": null,
   "metadata": {},
   "outputs": [],
   "source": []
  },
  {
   "cell_type": "code",
   "execution_count": 35,
   "metadata": {},
   "outputs": [
    {
     "name": "stdout",
     "output_type": "stream",
     "text": [
      "[21.1  1. ]\n"
     ]
    }
   ],
   "source": [
    "print(np.round(pca.explained_variance_, decimals=1))"
   ]
  },
  {
   "cell_type": "code",
   "execution_count": 36,
   "metadata": {},
   "outputs": [
    {
     "name": "stdout",
     "output_type": "stream",
     "text": [
      "[1. 0.]\n"
     ]
    }
   ],
   "source": [
    "print(np.round(pca.explained_variance_ratio_, decimals=1))"
   ]
  },
  {
   "cell_type": "code",
   "execution_count": 37,
   "metadata": {},
   "outputs": [
    {
     "name": "stdout",
     "output_type": "stream",
     "text": [
      "[10.3  2.3]\n"
     ]
    }
   ],
   "source": [
    "print(np.round(pca.singular_values_, decimals=1))"
   ]
  },
  {
   "cell_type": "code",
   "execution_count": 38,
   "metadata": {},
   "outputs": [
    {
     "name": "stdout",
     "output_type": "stream",
     "text": [
      "[ 0. -0.]\n"
     ]
    }
   ],
   "source": [
    "print(np.round(pca.mean_, decimals=1))"
   ]
  },
  {
   "cell_type": "code",
   "execution_count": 39,
   "metadata": {},
   "outputs": [
    {
     "name": "stdout",
     "output_type": "stream",
     "text": [
      "2\n"
     ]
    }
   ],
   "source": [
    "print(np.round(pca.n_components_, decimals=1))"
   ]
  },
  {
   "cell_type": "code",
   "execution_count": 40,
   "metadata": {},
   "outputs": [
    {
     "name": "stdout",
     "output_type": "stream",
     "text": [
      "2\n"
     ]
    }
   ],
   "source": [
    "print(np.round(pca.n_features_, decimals=1))"
   ]
  },
  {
   "cell_type": "code",
   "execution_count": 41,
   "metadata": {},
   "outputs": [
    {
     "name": "stdout",
     "output_type": "stream",
     "text": [
      "6\n"
     ]
    }
   ],
   "source": [
    "print(np.round(pca.n_samples_, decimals=1))"
   ]
  },
  {
   "cell_type": "code",
   "execution_count": 42,
   "metadata": {},
   "outputs": [
    {
     "name": "stdout",
     "output_type": "stream",
     "text": [
      "0.0\n"
     ]
    }
   ],
   "source": [
    "print(np.round(pca.noise_variance_, decimals=1))"
   ]
  },
  {
   "cell_type": "code",
   "execution_count": 43,
   "metadata": {},
   "outputs": [
    {
     "name": "stdout",
     "output_type": "stream",
     "text": [
      "0.0\n"
     ]
    }
   ],
   "source": [
    "print(np.round(pca.noise_variance_, decimals=1))"
   ]
  },
  {
   "cell_type": "code",
   "execution_count": 44,
   "metadata": {},
   "outputs": [
    {
     "name": "stdout",
     "output_type": "stream",
     "text": [
      "17.9\n"
     ]
    }
   ],
   "source": [
    "print(3.6+5+3.1+0.25+0.45+5.5)"
   ]
  },
  {
   "cell_type": "code",
   "execution_count": 45,
   "metadata": {},
   "outputs": [
    {
     "name": "stdout",
     "output_type": "stream",
     "text": [
      "17.86\n"
     ]
    }
   ],
   "source": [
    "print(3.25+5.6+2.2+1.45+2.01+3.35)"
   ]
  },
  {
   "cell_type": "code",
   "execution_count": null,
   "metadata": {},
   "outputs": [],
   "source": []
  }
 ],
 "metadata": {
  "kernelspec": {
   "display_name": "Python 3",
   "language": "python",
   "name": "python3"
  },
  "language_info": {
   "codemirror_mode": {
    "name": "ipython",
    "version": 3
   },
   "file_extension": ".py",
   "mimetype": "text/x-python",
   "name": "python",
   "nbconvert_exporter": "python",
   "pygments_lexer": "ipython3",
   "version": "3.8.10"
  },
  "widgets": {
   "application/vnd.jupyter.widget-state+json": {
    "state": {},
    "version_major": 2,
    "version_minor": 0
   }
  }
 },
 "nbformat": 4,
 "nbformat_minor": 4
}
