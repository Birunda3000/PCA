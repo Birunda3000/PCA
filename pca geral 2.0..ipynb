{
 "cells": [
  {
   "cell_type": "code",
   "execution_count": 1,
   "metadata": {},
   "outputs": [],
   "source": [
    "import pandas as pd\n",
    "import numpy as np\n",
    "import random as rd\n",
    "from sklearn.decomposition import PCA # faz o PCA\n",
    "from sklearn import preprocessing # para centralizar os dados e manter a proporção entre as dimensões\n",
    "import matplotlib.pyplot as plt # para gerar os graficos"
   ]
  },
  {
   "cell_type": "code",
   "execution_count": 2,
   "metadata": {},
   "outputs": [
    {
     "name": "stdout",
     "output_type": "stream",
     "text": [
      "['dimensao1', 'dimensao2', 'dimensao3', 'dimensao4', 'dimensao5', 'dimensao6', 'dimensao7', 'dimensao8', 'dimensao9', 'dimensao10', 'dimensao11', 'dimensao12']\n"
     ]
    }
   ],
   "source": [
    "# Gerando dados Aleatorios\n",
    "dimensoes = ['dimensao' + str(i) for i in range(1,13)]\n",
    "print(dimensoes)"
   ]
  },
  {
   "cell_type": "code",
   "execution_count": 3,
   "metadata": {},
   "outputs": [
    {
     "name": "stdout",
     "output_type": "stream",
     "text": [
      "['T-1', 'T-2', 'T-3', 'T-4', 'T-5', 'T-6']\n",
      "['K-1', 'K-2', 'K-3', 'K-4', 'K-5', 'K-6']\n",
      "['G-1', 'G-2', 'G-3', 'G-4', 'G-5', 'G-6']\n"
     ]
    }
   ],
   "source": [
    "amostrasT = ['T-' + str(i) for i in range(1,7)]\n",
    "amostrasK = ['K-' + str(i) for i in range(1,7)]\n",
    "amostrasG = ['G-' + str(i) for i in range(1,7)]\n",
    "print(amostrasT)\n",
    "print(amostrasK)\n",
    "print(amostrasG)"
   ]
  },
  {
   "cell_type": "code",
   "execution_count": 4,
   "metadata": {},
   "outputs": [
    {
     "name": "stdout",
     "output_type": "stream",
     "text": [
      "            T-1  T-2  T-3  T-4  T-5  T-6  K-1  K-2  K-3  K-4  K-5  K-6  G-1  \\\n",
      "dimensao1   NaN  NaN  NaN  NaN  NaN  NaN  NaN  NaN  NaN  NaN  NaN  NaN  NaN   \n",
      "dimensao2   NaN  NaN  NaN  NaN  NaN  NaN  NaN  NaN  NaN  NaN  NaN  NaN  NaN   \n",
      "dimensao3   NaN  NaN  NaN  NaN  NaN  NaN  NaN  NaN  NaN  NaN  NaN  NaN  NaN   \n",
      "dimensao4   NaN  NaN  NaN  NaN  NaN  NaN  NaN  NaN  NaN  NaN  NaN  NaN  NaN   \n",
      "dimensao5   NaN  NaN  NaN  NaN  NaN  NaN  NaN  NaN  NaN  NaN  NaN  NaN  NaN   \n",
      "dimensao6   NaN  NaN  NaN  NaN  NaN  NaN  NaN  NaN  NaN  NaN  NaN  NaN  NaN   \n",
      "dimensao7   NaN  NaN  NaN  NaN  NaN  NaN  NaN  NaN  NaN  NaN  NaN  NaN  NaN   \n",
      "dimensao8   NaN  NaN  NaN  NaN  NaN  NaN  NaN  NaN  NaN  NaN  NaN  NaN  NaN   \n",
      "dimensao9   NaN  NaN  NaN  NaN  NaN  NaN  NaN  NaN  NaN  NaN  NaN  NaN  NaN   \n",
      "dimensao10  NaN  NaN  NaN  NaN  NaN  NaN  NaN  NaN  NaN  NaN  NaN  NaN  NaN   \n",
      "dimensao11  NaN  NaN  NaN  NaN  NaN  NaN  NaN  NaN  NaN  NaN  NaN  NaN  NaN   \n",
      "dimensao12  NaN  NaN  NaN  NaN  NaN  NaN  NaN  NaN  NaN  NaN  NaN  NaN  NaN   \n",
      "\n",
      "            G-2  G-3  G-4  G-5  G-6  \n",
      "dimensao1   NaN  NaN  NaN  NaN  NaN  \n",
      "dimensao2   NaN  NaN  NaN  NaN  NaN  \n",
      "dimensao3   NaN  NaN  NaN  NaN  NaN  \n",
      "dimensao4   NaN  NaN  NaN  NaN  NaN  \n",
      "dimensao5   NaN  NaN  NaN  NaN  NaN  \n",
      "dimensao6   NaN  NaN  NaN  NaN  NaN  \n",
      "dimensao7   NaN  NaN  NaN  NaN  NaN  \n",
      "dimensao8   NaN  NaN  NaN  NaN  NaN  \n",
      "dimensao9   NaN  NaN  NaN  NaN  NaN  \n",
      "dimensao10  NaN  NaN  NaN  NaN  NaN  \n",
      "dimensao11  NaN  NaN  NaN  NaN  NaN  \n",
      "dimensao12  NaN  NaN  NaN  NaN  NaN  \n"
     ]
    }
   ],
   "source": [
    "df = pd.DataFrame(columns=[*amostrasT, *amostrasK, *amostrasG], index=dimensoes)\n",
    "print(df)"
   ]
  },
  {
   "cell_type": "code",
   "execution_count": 5,
   "metadata": {},
   "outputs": [
    {
     "name": "stdout",
     "output_type": "stream",
     "text": [
      "            T-1  T-2  T-3  T-4  T-5  T-6   K-1  K-2  K-3   K-4  K-5   K-6  \\\n",
      "dimensao1   623  630  611  549  559  577   940  982  960   897  991   958   \n",
      "dimensao2   905  918  833  921  896  918   360  377  400   392  377   385   \n",
      "dimensao3   302  314  292  300  301  288   799  828  751   830  821   798   \n",
      "dimensao4   393  389  377  375  344  399   150  152  139   169  154   153   \n",
      "dimensao5   332  303  324  305  318  307   470  422  462   433  508   441   \n",
      "dimensao6   132  146  134  116  126  130    97  105   94   120   92   118   \n",
      "dimensao7   343  354  338  333  322  374  1012  930  981  1038  926  1000   \n",
      "dimensao8   878  830  862  927  899  852   868  832  768   805  838   819   \n",
      "dimensao9   569  520  493  523  563  525   552  543  541   551  530   562   \n",
      "dimensao10  703  684  670  658  654  693   345  335  320   324  343   353   \n",
      "dimensao11  333  251  328  286  326  283   841  864  870   753  835   828   \n",
      "dimensao12  976  925  943  947  957  968   110   90  112    92   85   104   \n",
      "\n",
      "            G-1  G-2  G-3   G-4  G-5   G-6  \n",
      "dimensao1    44   50   43    63   43    52  \n",
      "dimensao2   848  837  851   818  838   813  \n",
      "dimensao3   733  732  695   760  746   690  \n",
      "dimensao4   785  740  786   770  813   742  \n",
      "dimensao5   122  117  117   106   92   101  \n",
      "dimensao6   965  986  923  1024  933  1013  \n",
      "dimensao7   880  891  914   900  896   925  \n",
      "dimensao8   573  589  604   586  574   583  \n",
      "dimensao9   851  816  798   826  840   799  \n",
      "dimensao10  128  125  128   132  130   131  \n",
      "dimensao11  138  163  165   147  157   140  \n",
      "dimensao12   79   73   65    76   58    72  \n"
     ]
    }
   ],
   "source": [
    "for dimensao in df.index: #para cada dimensão do meu data frame\n",
    "    df.loc[dimensao,'T-1':'T-6'] = np.random.poisson(lam=rd.randrange(1,1000), size=6)# valores com uma distribuição de poisson com a media aleatoria entre 1 e 100\n",
    "    df.loc[dimensao,'K-1':'K-6'] = np.random.poisson(lam=rd.randrange(1,1000), size=6)# valores com uma distribuição de poisson com a media aleatoria entre 1 e 100\n",
    "    df.loc[dimensao,'G-1':'G-6'] = np.random.poisson(lam=rd.randrange(1,1000), size=6)# valores com uma distribuição de poisson com a media aleatoria entre 1 e 100\n",
    "print(df)"
   ]
  },
  {
   "cell_type": "code",
   "execution_count": 6,
   "metadata": {},
   "outputs": [
    {
     "name": "stdout",
     "output_type": "stream",
     "text": [
      "[[ 0.2445906   0.86712812 -1.38134185 -0.16357595  0.26924664 -0.66984426\n",
      "  -1.40191479  0.9138364  -0.47848597  1.42378928 -0.32469574  1.47001059]\n",
      " [ 0.26335943  0.92344452 -1.32752334 -0.17915462  0.06731166 -0.63523976\n",
      "  -1.36327089  0.54087719 -0.8423003   1.33980585 -0.60430537  1.34547481]\n",
      " [ 0.21241547  0.55522192 -1.42619062 -0.2258906   0.21354043 -0.66490076\n",
      "  -1.4194802   0.78951666 -1.04276942  1.27792332 -0.34174511  1.38942862]\n",
      " [ 0.04617728  0.93644061 -1.39031161 -0.23367994  0.08123821 -0.70939226\n",
      "  -1.4370456   1.29456559 -0.82002595  1.22488115 -0.48495979  1.39919613]\n",
      " [ 0.07298989  0.82813985 -1.38582673 -0.35441457  0.17176078 -0.68467476\n",
      "  -1.4756895   1.07700605 -0.52303466  1.20720043 -0.34856485  1.42361491]\n",
      " [ 0.12125259  0.92344452 -1.44413012 -0.14020796  0.09516476 -0.67478776\n",
      "  -1.29300925  0.71181683 -0.80517639  1.37958747 -0.49518941  1.45047557]\n",
      " [ 1.09455038 -1.49382855  0.84764159 -1.10997969  1.23017859 -0.75635551\n",
      "   0.9483369   0.83613656 -0.60470727 -0.15863537  1.40752003 -0.64465581]\n",
      " [ 1.20716335 -1.42018403  0.977703   -1.10219036  0.89594139 -0.73658151\n",
      "   0.6602642   0.55641716 -0.67153031 -0.20283718  1.48594712 -0.69349337]\n",
      " [ 1.1481756  -1.32054733  0.63236754 -1.15282101  1.17447239 -0.76377076\n",
      "   0.83943137  0.05913821 -0.68637987 -0.26913988  1.50640636 -0.63977205]\n",
      " [ 0.97925615 -1.35520357  0.98667275 -1.03598105  0.97253741 -0.69950526\n",
      "   1.03967702  0.3466276  -0.61213205 -0.25145916  1.10745116 -0.68860961]\n",
      " [ 1.2312947  -1.42018403  0.94630887 -1.09440103  1.49478304 -0.76871426\n",
      "   0.64621187  0.60303706 -0.76805248 -0.16747573  1.38706079 -0.70570276]\n",
      " [ 1.14281308 -1.38552779  0.84315672 -1.0982957   1.02824362 -0.70444876\n",
      "   0.90617992  0.45540737 -0.53045945 -0.12327392  1.36319167 -0.65930708]\n",
      " [-1.3078596   0.62020238  0.55163977  1.36313295 -1.19304112  1.38912352\n",
      "   0.48461011 -1.45600859  1.61530263 -1.11781455 -0.98962108 -0.72035403]\n",
      " [-1.29177203  0.57255004  0.54715489  1.187873   -1.2278575   1.44103027\n",
      "   0.52325401 -1.33168885  1.35543525 -1.1310751  -0.90437424 -0.7350053 ]\n",
      " [-1.31054086  0.63319847  0.38121447  1.36702762 -1.2278575   1.28531002\n",
      "   0.60405489 -1.2151391   1.22178917 -1.11781455 -0.89755449 -0.75454032]\n",
      " [-1.25691564  0.49024146  0.67273142  1.30471297 -1.30445353  1.53495678\n",
      "   0.55487174 -1.3549988   1.42968308 -1.10013383 -0.95893222 -0.72767966]\n",
      " [-1.31054086  0.57688207  0.60994316  1.47218359 -1.40193938  1.31002752\n",
      "   0.54081942 -1.4482386   1.53363003 -1.10897419 -0.92483348 -0.77163347]\n",
      " [-1.28640951  0.46858131  0.35879009  1.19566233 -1.3392699   1.50776753\n",
      "   0.64269879 -1.37830875  1.22921396 -1.10455401 -0.98280133 -0.73744717]]\n"
     ]
    }
   ],
   "source": [
    "# PCA\n",
    "\n",
    "scaled_data = preprocessing.scale(df.T) # centraliza os dados na origem e normaliza(media = 0 e desvio padrão = 1) \n",
    "# transposto porque os porque a função scale recebe as amostras como linhas e as dimesões como colunas\n",
    "\n",
    "#StandartScaler().fit_transform(data.T)\n",
    "\n",
    "print(scaled_data) # dados escalados são 18 [] um por amostra e [12 valores(um por dimensão)] "
   ]
  },
  {
   "cell_type": "code",
   "execution_count": 7,
   "metadata": {},
   "outputs": [
    {
     "data": {
      "text/plain": [
       "PCA(copy=True, iterated_power='auto', n_components=None, random_state=None,\n",
       "    svd_solver='auto', tol=0.0, whiten=False)"
      ]
     },
     "execution_count": 7,
     "metadata": {},
     "output_type": "execute_result"
    }
   ],
   "source": [
    "pca = PCA()\n",
    "pca.fit(scaled_data) # magic"
   ]
  },
  {
   "cell_type": "code",
   "execution_count": 8,
   "metadata": {},
   "outputs": [
    {
     "name": "stdout",
     "output_type": "stream",
     "text": [
      "[[-1.78251444e+00  2.69912204e+00 -9.75393973e-02  3.12786099e-01\n",
      "   3.71251351e-02 -3.30816788e-02  7.14683202e-02 -4.25369262e-02\n",
      "   8.89883394e-02 -5.75753030e-02  7.93320478e-03  8.67817047e-03]\n",
      " [-1.57252585e+00  2.70519141e+00  3.42517446e-01 -1.89117567e-02\n",
      "  -1.56138876e-01 -1.16672836e-02  1.05259906e-01  9.72780774e-03\n",
      "  -8.44172328e-02 -4.82275521e-02 -4.38579511e-02  6.01549090e-03]\n",
      " [-1.93308730e+00  2.54129915e+00  2.20056698e-01 -1.68332542e-01\n",
      "  -4.52993016e-02  8.82287527e-02 -1.38275237e-01 -6.03438610e-02\n",
      "   1.42108070e-01  8.69873835e-02  1.61585582e-04  8.66157095e-04]\n",
      " [-1.83366276e+00  2.81643873e+00 -3.56318051e-01 -2.12028742e-01\n",
      "   1.28876445e-02  2.06867398e-02 -3.09923759e-02  9.41329309e-02\n",
      "  -7.40406977e-02 -2.41743294e-02  1.01573107e-03  1.12873976e-02]\n",
      " [-1.77768744e+00  2.67502953e+00 -2.76949284e-01  1.25767878e-01\n",
      "   1.05791214e-01 -4.03616428e-02 -1.16725971e-01 -4.58245260e-02\n",
      "  -1.02911378e-01  6.58716779e-02 -1.45178163e-02 -8.12551367e-03]\n",
      " [-1.64492365e+00  2.78445685e+00  1.87423920e-01 -3.48242958e-02\n",
      "   3.62939620e-02 -3.31415993e-02  1.15002141e-01  3.59523093e-02\n",
      "   3.02434367e-02 -1.56847821e-02  4.99167184e-02 -1.83117749e-02]\n",
      " [-2.21046962e+00 -2.61359530e+00 -3.10741264e-01 -7.11311178e-02\n",
      "   1.13214252e-01  2.33555366e-02  8.89480812e-02 -4.89460377e-02\n",
      "   9.54497757e-02 -2.29228869e-03 -5.73584937e-03  5.49129692e-03]\n",
      " [-2.05836812e+00 -2.56043797e+00 -7.94213352e-02 -2.98227246e-02\n",
      "  -2.01948898e-01 -1.83705656e-01 -1.97149667e-01  4.82869107e-02\n",
      "   7.81515488e-03 -3.23526090e-02  3.61119991e-03  1.46326981e-03]\n",
      " [-1.98805063e+00 -2.54267867e+00  4.25395630e-01  1.29025739e-01\n",
      "   2.12683800e-01  1.89823669e-03 -1.30469777e-01  6.05715725e-02\n",
      "  -4.92142210e-02 -1.57447604e-03  1.79562968e-02  1.36953099e-02]\n",
      " [-1.69881818e+00 -2.57712335e+00  4.16691711e-02 -1.55445334e-01\n",
      "  -2.33485545e-02 -4.89226304e-02  2.12389577e-01 -1.07070295e-02\n",
      "  -8.03552337e-02  9.32377415e-02  1.67423677e-02  6.54397953e-03]\n",
      " [-2.32187335e+00 -2.59739302e+00 -5.64244314e-02  9.17931007e-02\n",
      "  -1.32912202e-01  3.23683023e-01 -1.37773500e-02  1.04317289e-02\n",
      "  -1.12734181e-02 -2.18905268e-02 -7.68047511e-03 -1.07353640e-02]\n",
      " [-1.95539152e+00 -2.54187386e+00 -7.95386800e-03  4.01072008e-02\n",
      "   3.45140608e-02 -1.35562637e-01  5.76518640e-02 -4.93692806e-02\n",
      "   2.66347535e-02 -3.52407985e-02 -2.51411074e-02 -1.62525780e-02]\n",
      " [ 3.90501190e+00 -8.89338582e-02 -2.49081968e-02  2.34548694e-01\n",
      "  -6.61012130e-03  5.74714557e-02  3.75928727e-02  1.97520036e-03\n",
      "  -3.26906715e-02  5.50308098e-02 -2.80577598e-02  8.23978315e-03]\n",
      " [ 3.71045046e+00 -1.62291935e-01 -2.16670378e-02 -6.59472453e-03\n",
      "   6.62386382e-03  3.37963942e-02 -5.65654194e-02 -5.03330304e-02\n",
      "  -9.54495161e-02 -2.19939543e-02  4.25823597e-02 -1.84852948e-02]\n",
      " [ 3.62973209e+00 -5.81169363e-02 -3.48991648e-02 -1.39346983e-01\n",
      "   1.10688667e-01  6.96155509e-02  1.58069034e-02  1.72780333e-01\n",
      "   4.93579356e-02 -4.72728190e-02 -3.57561257e-03  2.84618638e-03]\n",
      " [ 3.84650391e+00 -2.16222161e-01 -5.22945496e-02  6.54062418e-03\n",
      "  -1.25125452e-01 -9.47465224e-03 -6.04779443e-04 -1.26418547e-01\n",
      "   9.53797610e-03 -2.06864111e-02  4.72634425e-02  1.91547628e-02]\n",
      " [ 3.95156854e+00 -1.39643259e-01 -1.50788797e-02  1.07177014e-01\n",
      "  -8.58158793e-02 -1.00794961e-01  2.07422247e-02  1.38297590e-01\n",
      "   7.67390272e-02  6.64159589e-02 -1.29898799e-02 -8.64411016e-03]\n",
      " [ 3.73410596e+00 -1.23227400e-01  1.17132595e-01 -2.11308130e-01\n",
      "   1.07376686e-01 -2.20229493e-02 -4.03013138e-02 -1.37677145e-01\n",
      "   3.47790026e-03 -3.85777216e-02 -4.56264549e-02 -3.72716904e-03]]\n"
     ]
    }
   ],
   "source": [
    "pca_data = pca.transform(scaled_data) # coordenadas dos dados nas PC's\n",
    "print(pca_data)\n",
    "#[] = uma amostra ()\n",
    "#são 18 [] com [12 valores] o numero maximo de pc's gerados é a dimensionalidade dados ou quantidade de amostras-1 (o que for menor)\n",
    "#porque? se vc tiver mais dimesões que amostras-1, as PC's depois de amostra-1 vão ser sempre zero\n",
    "# 2 pontos = reta = pc1 logo variancia em pc2 é sempre 0 / 3 pontos = plano = pc1 + pc2 logo variancia em pc3 é sempre 0\n",
    "#logo os dados neste caso terão 12 dimensões"
   ]
  },
  {
   "cell_type": "code",
   "execution_count": 9,
   "metadata": {},
   "outputs": [
    {
     "name": "stdout",
     "output_type": "stream",
     "text": [
      "[60.3 38.8  0.3  0.2  0.1  0.1  0.1  0.1  0.   0.   0.   0. ]\n",
      "['PC1', 'PC2', 'PC3', 'PC4', 'PC5', 'PC6', 'PC7', 'PC8', 'PC9', 'PC10', 'PC11', 'PC12']\n"
     ]
    }
   ],
   "source": [
    "# PCA plot\n",
    "per_var = np.round(pca.explained_variance_ratio_* 100, decimals=1)#quanta imformação cada pc tem em %, o ultimo é zero pq ne (não sei pq ele entra)\n",
    "labels = ['PC' + str(x) for x in range(1, len(per_var)+1)]# labels para o grafico\n",
    "print(per_var)\n",
    "print(labels)"
   ]
  },
  {
   "cell_type": "code",
   "execution_count": 10,
   "metadata": {},
   "outputs": [
    {
     "data": {
      "image/png": "[encoded data removed]",
      "text/plain": [
       "<Figure size 432x288 with 1 Axes>"
      ]
     },
     "metadata": {
      "needs_background": "light"
     },
     "output_type": "display_data"
    }
   ],
   "source": [
    "plt.bar(x=range(1,len(per_var)+1), height=per_var, tick_label=labels)#grafico de barras\n",
    "plt.ylabel('Contribuição na variancia dos dados')\n",
    "plt.xlabel('Componente Principal')\n",
    "plt.title('Importancia de Cada componente')\n",
    "plt.show()\n",
    "# com PC1 e PC2 temos mais de 90% da variancia dos dados"
   ]
  },
  {
   "cell_type": "code",
   "execution_count": 11,
   "metadata": {},
   "outputs": [
    {
     "name": "stdout",
     "output_type": "stream",
     "text": [
      "          PC1       PC2       PC3       PC4       PC5       PC6       PC7  \\\n",
      "T-1 -1.782514  2.699122 -0.097539  0.312786  0.037125 -0.033082  0.071468   \n",
      "T-2 -1.572526  2.705191  0.342517 -0.018912 -0.156139 -0.011667  0.105260   \n",
      "T-3 -1.933087  2.541299  0.220057 -0.168333 -0.045299  0.088229 -0.138275   \n",
      "T-4 -1.833663  2.816439 -0.356318 -0.212029  0.012888  0.020687 -0.030992   \n",
      "T-5 -1.777687  2.675030 -0.276949  0.125768  0.105791 -0.040362 -0.116726   \n",
      "T-6 -1.644924  2.784457  0.187424 -0.034824  0.036294 -0.033142  0.115002   \n",
      "K-1 -2.210470 -2.613595 -0.310741 -0.071131  0.113214  0.023356  0.088948   \n",
      "K-2 -2.058368 -2.560438 -0.079421 -0.029823 -0.201949 -0.183706 -0.197150   \n",
      "K-3 -1.988051 -2.542679  0.425396  0.129026  0.212684  0.001898 -0.130470   \n",
      "K-4 -1.698818 -2.577123  0.041669 -0.155445 -0.023349 -0.048923  0.212390   \n",
      "K-5 -2.321873 -2.597393 -0.056424  0.091793 -0.132912  0.323683 -0.013777   \n",
      "K-6 -1.955392 -2.541874 -0.007954  0.040107  0.034514 -0.135563  0.057652   \n",
      "G-1  3.905012 -0.088934 -0.024908  0.234549 -0.006610  0.057471  0.037593   \n",
      "G-2  3.710450 -0.162292 -0.021667 -0.006595  0.006624  0.033796 -0.056565   \n",
      "G-3  3.629732 -0.058117 -0.034899 -0.139347  0.110689  0.069616  0.015807   \n",
      "G-4  3.846504 -0.216222 -0.052295  0.006541 -0.125125 -0.009475 -0.000605   \n",
      "G-5  3.951569 -0.139643 -0.015079  0.107177 -0.085816 -0.100795  0.020742   \n",
      "G-6  3.734106 -0.123227  0.117133 -0.211308  0.107377 -0.022023 -0.040301   \n",
      "\n",
      "          PC8       PC9      PC10      PC11      PC12  \n",
      "T-1 -0.042537  0.088988 -0.057575  0.007933  0.008678  \n",
      "T-2  0.009728 -0.084417 -0.048228 -0.043858  0.006015  \n",
      "T-3 -0.060344  0.142108  0.086987  0.000162  0.000866  \n",
      "T-4  0.094133 -0.074041 -0.024174  0.001016  0.011287  \n",
      "T-5 -0.045825 -0.102911  0.065872 -0.014518 -0.008126  \n",
      "T-6  0.035952  0.030243 -0.015685  0.049917 -0.018312  \n",
      "K-1 -0.048946  0.095450 -0.002292 -0.005736  0.005491  \n",
      "K-2  0.048287  0.007815 -0.032353  0.003611  0.001463  \n",
      "K-3  0.060572 -0.049214 -0.001574  0.017956  0.013695  \n",
      "K-4 -0.010707 -0.080355  0.093238  0.016742  0.006544  \n",
      "K-5  0.010432 -0.011273 -0.021891 -0.007680 -0.010735  \n",
      "K-6 -0.049369  0.026635 -0.035241 -0.025141 -0.016253  \n",
      "G-1  0.001975 -0.032691  0.055031 -0.028058  0.008240  \n",
      "G-2 -0.050333 -0.095450 -0.021994  0.042582 -0.018485  \n",
      "G-3  0.172780  0.049358 -0.047273 -0.003576  0.002846  \n",
      "G-4 -0.126419  0.009538 -0.020686  0.047263  0.019155  \n",
      "G-5  0.138298  0.076739  0.066416 -0.012990 -0.008644  \n",
      "G-6 -0.137677  0.003478 -0.038578 -0.045626 -0.003727  \n"
     ]
    }
   ],
   "source": [
    "#dados nas PC's\n",
    "pca_df = pd.DataFrame(pca_data, index=[*amostrasT, *amostrasK, *amostrasG], columns=labels)\n",
    "print(pca_df)"
   ]
  },
  {
   "cell_type": "code",
   "execution_count": 12,
   "metadata": {},
   "outputs": [
    {
     "data": {
      "image/png": "[encoded data removed]",
      "text/plain": [
       "<Figure size 432x288 with 1 Axes>"
      ]
     },
     "metadata": {
      "needs_background": "light"
     },
     "output_type": "display_data"
    }
   ],
   "source": [
    "plt.scatter(pca_df.PC1, pca_df.PC2)\n",
    "plt.title('Grafico com PC1 e PC2')\n",
    "plt.xlabel('PC1 - {0}%'.format(per_var[0]))\n",
    "plt.ylabel('PC2 - {0}%'.format(per_var[1]))\n",
    " \n",
    "for sample in pca_df.index:\n",
    "    plt.annotate(sample, (pca_df.PC1.loc[sample], pca_df.PC2.loc[sample]))\n",
    " \n",
    "plt.show()"
   ]
  },
  {
   "cell_type": "code",
   "execution_count": 13,
   "metadata": {},
   "outputs": [
    {
     "name": "stdout",
     "output_type": "stream",
     "text": [
      "dimensao6     0.370663\n",
      "dimensao9     0.366868\n",
      "dimensao8     0.357341\n",
      "dimensao4     0.351053\n",
      "dimensao1     0.345971\n",
      "dimensao5     0.344271\n",
      "dimensao10    0.282144\n",
      "dimensao11    0.260172\n",
      "dimensao12    0.180787\n",
      "dimensao2     0.162195\n",
      "dimensao7     0.132787\n",
      "dimensao3     0.122264\n",
      "dtype: float64\n"
     ]
    }
   ],
   "source": [
    "# Ordena as dimensões em ordem de influencia em em PC1\n",
    "\n",
    "D = pd.Series(pca.components_[0], index=dimensoes)\n",
    "top_dimesoes = D.abs().sort_values(ascending=False)\n",
    "print(top_dimesoes)"
   ]
  },
  {
   "cell_type": "code",
   "execution_count": null,
   "metadata": {},
   "outputs": [],
   "source": []
  }
 ],
 "metadata": {
  "kernelspec": {
   "display_name": "Python 3",
   "language": "python",
   "name": "python3"
  },
  "language_info": {
   "codemirror_mode": {
    "name": "ipython",
    "version": 3
   },
   "file_extension": ".py",
   "mimetype": "text/x-python",
   "name": "python",
   "nbconvert_exporter": "python",
   "pygments_lexer": "ipython3",
   "version": "3.6.9"
  }
 },
 "nbformat": 4,
 "nbformat_minor": 4
}
